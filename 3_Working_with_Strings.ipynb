{
  "nbformat": 4,
  "nbformat_minor": 0,
  "metadata": {
    "kernelspec": {
      "display_name": "Python 3",
      "language": "python",
      "name": "python3"
    },
    "language_info": {
      "codemirror_mode": {
        "name": "ipython",
        "version": 3
      },
      "file_extension": ".py",
      "mimetype": "text/x-python",
      "name": "python",
      "nbconvert_exporter": "python",
      "pygments_lexer": "ipython3",
      "version": "3.7.3"
    },
    "colab": {
      "name": "3 Working with Strings.ipynb",
      "provenance": [],
      "include_colab_link": true
    }
  },
  "cells": [
    {
      "cell_type": "markdown",
      "metadata": {
        "id": "view-in-github",
        "colab_type": "text"
      },
      "source": [
        "<a href=\"https://colab.research.google.com/github/abhishekatujjain/Python/blob/master/3_Working_with_Strings.ipynb\" target=\"_parent\"><img src=\"https://colab.research.google.com/assets/colab-badge.svg\" alt=\"Open In Colab\"/></a>"
      ]
    },
    {
      "cell_type": "code",
      "metadata": {
        "id": "mAMPouCY_vPa",
        "colab_type": "code",
        "colab": {
          "base_uri": "https://localhost:8080/",
          "height": 35
        },
        "outputId": "0c33f8f7-a229-4254-a86b-64a0c944bfa8"
      },
      "source": [
        "# String Formatting: The Short Version\n",
        "format = \"Hello, %s. %s enough for ya?\"  #The %s parts of the format string are called conversion specifiers\n",
        "values = ('world', 'Hot')\n",
        "format % values"
      ],
      "execution_count": null,
      "outputs": [
        {
          "output_type": "execute_result",
          "data": {
            "application/vnd.google.colaboratory.intrinsic+json": {
              "type": "string"
            },
            "text/plain": [
              "'Hello, world. Hot enough for ya?'"
            ]
          },
          "metadata": {
            "tags": []
          },
          "execution_count": 1
        }
      ]
    },
    {
      "cell_type": "code",
      "metadata": {
        "id": "x-bdMdzFAzj6",
        "colab_type": "code",
        "colab": {
          "base_uri": "https://localhost:8080/",
          "height": 52
        },
        "outputId": "0f959016-83e6-43c0-a4c0-7f0fda3422ec"
      },
      "source": [
        "str1 = \"hello  dear %s, how are you\"\n",
        "a = input(\"Enter your name\")\n",
        "str1%a"
      ],
      "execution_count": null,
      "outputs": [
        {
          "output_type": "stream",
          "text": [
            "Enter your namemadhav\n"
          ],
          "name": "stdout"
        },
        {
          "output_type": "execute_result",
          "data": {
            "application/vnd.google.colaboratory.intrinsic+json": {
              "type": "string"
            },
            "text/plain": [
              "'hello  dear madhav, how are you'"
            ]
          },
          "metadata": {
            "tags": []
          },
          "execution_count": 5
        }
      ]
    },
    {
      "cell_type": "code",
      "metadata": {
        "id": "YhY2M5cw_vPg",
        "colab_type": "code",
        "colab": {},
        "outputId": "a3ed990a-0a5b-431e-9764-6be911999c7e"
      },
      "source": [
        "#similar unix shell sytax\n",
        "from string import Template\n",
        "tmpl = Template(\"Hello, $who! $what is enough for students?\")\n",
        "tmpl.substitute(who=\"Abhishek\", what=\"Python\")"
      ],
      "execution_count": null,
      "outputs": [
        {
          "output_type": "execute_result",
          "data": {
            "text/plain": [
              "'Hello, Abhishek! Python is enough for students?'"
            ]
          },
          "metadata": {
            "tags": []
          },
          "execution_count": 1
        }
      ]
    },
    {
      "cell_type": "code",
      "metadata": {
        "id": "3zF65i0o_vPj",
        "colab_type": "code",
        "colab": {},
        "outputId": "2d5d42d0-90b0-4ac7-c5f8-40974fc1a399"
      },
      "source": [
        "#simplest one\n",
        "\"First name: {}, Middle name: {} and Last name: {}\".format(\"Abhishek\", \"Singh\", \"Rathore\")"
      ],
      "execution_count": null,
      "outputs": [
        {
          "output_type": "execute_result",
          "data": {
            "text/plain": [
              "'First name: Abhishek, Middle name: Singh and Last name: Rathore'"
            ]
          },
          "metadata": {
            "tags": []
          },
          "execution_count": 2
        }
      ]
    },
    {
      "cell_type": "code",
      "metadata": {
        "id": "Np_Wrs9L_vPm",
        "colab_type": "code",
        "colab": {},
        "outputId": "56710841-f204-49fb-fb4e-dc22d18bfe9a"
      },
      "source": [
        "#using positions\n",
        "\"First name: {0}, Middle name: {1} and Last name: {2}\".format(\"Abhishek\", \"Singh\", \"Rathore\")"
      ],
      "execution_count": null,
      "outputs": [
        {
          "output_type": "execute_result",
          "data": {
            "text/plain": [
              "'First name: Abhishek, Middle name: Singh and Last name: Rathore'"
            ]
          },
          "metadata": {
            "tags": []
          },
          "execution_count": 5
        }
      ]
    },
    {
      "cell_type": "code",
      "metadata": {
        "id": "3ISf98TD_vPr",
        "colab_type": "code",
        "colab": {},
        "outputId": "921cf053-1ad7-4a1c-8a67-52fe1b536b03"
      },
      "source": [
        "\"Last name: {2}, Middle name: {1} and First name: {0}\".format(\"Abhishek\", \"Singh\", \"Rathore\")"
      ],
      "execution_count": null,
      "outputs": [
        {
          "output_type": "execute_result",
          "data": {
            "text/plain": [
              "'Last name: Rathore, Middle name: Singh and First name: Abhishek'"
            ]
          },
          "metadata": {
            "tags": []
          },
          "execution_count": 6
        }
      ]
    },
    {
      "cell_type": "code",
      "metadata": {
        "id": "v7IB8-GACd6L",
        "colab_type": "code",
        "colab": {
          "base_uri": "https://localhost:8080/",
          "height": 163
        },
        "outputId": "658bade9-6d3e-4a7f-8ea5-805db43778f7"
      },
      "source": [
        "\"Last name: {2}, Middle name: {} and First name: {}\".format(\"Abhishek\", \"Singh\", \"Rathore\")"
      ],
      "execution_count": null,
      "outputs": [
        {
          "output_type": "error",
          "ename": "ValueError",
          "evalue": "ignored",
          "traceback": [
            "\u001b[0;31m---------------------------------------------------------------------------\u001b[0m",
            "\u001b[0;31mValueError\u001b[0m                                Traceback (most recent call last)",
            "\u001b[0;32m<ipython-input-6-499d5dc35f1b>\u001b[0m in \u001b[0;36m<module>\u001b[0;34m()\u001b[0m\n\u001b[0;32m----> 1\u001b[0;31m \u001b[0;34m\"Last name: {2}, Middle name: {} and First name: {}\"\u001b[0m\u001b[0;34m.\u001b[0m\u001b[0mformat\u001b[0m\u001b[0;34m(\u001b[0m\u001b[0;34m\"Abhishek\"\u001b[0m\u001b[0;34m,\u001b[0m \u001b[0;34m\"Singh\"\u001b[0m\u001b[0;34m,\u001b[0m \u001b[0;34m\"Rathore\"\u001b[0m\u001b[0;34m)\u001b[0m\u001b[0;34m\u001b[0m\u001b[0;34m\u001b[0m\u001b[0m\n\u001b[0m",
            "\u001b[0;31mValueError\u001b[0m: cannot switch from manual field specification to automatic field numbering"
          ]
        }
      ]
    },
    {
      "cell_type": "code",
      "metadata": {
        "id": "oviRMmIQ_vPu",
        "colab_type": "code",
        "colab": {},
        "outputId": "37f5a242-ed9e-4358-8807-c3f8d07dad86"
      },
      "source": [
        "\"{3} {0} {2} {1} {3} {0}\".format(\"be\", \"not\", \"or\", \"to\")"
      ],
      "execution_count": null,
      "outputs": [
        {
          "output_type": "execute_result",
          "data": {
            "text/plain": [
              "'to be or not to be'"
            ]
          },
          "metadata": {
            "tags": []
          },
          "execution_count": 7
        }
      ]
    },
    {
      "cell_type": "code",
      "metadata": {
        "id": "17mRlwyj_vPx",
        "colab_type": "code",
        "colab": {
          "base_uri": "https://localhost:8080/",
          "height": 35
        },
        "outputId": "97845bef-890f-4c4e-f54b-ef64c69fe668"
      },
      "source": [
        "from math import pi\n",
        "\"{ad} is approximately {value:.2f}.\".format(value=6, ad=\"π\")\n",
        "#instead of postion, I used variable names\n",
        "#.2f : float values with 2 level of precision"
      ],
      "execution_count": null,
      "outputs": [
        {
          "output_type": "execute_result",
          "data": {
            "application/vnd.google.colaboratory.intrinsic+json": {
              "type": "string"
            },
            "text/plain": [
              "'π is approximately 6.00.'"
            ]
          },
          "metadata": {
            "tags": []
          },
          "execution_count": 8
        }
      ]
    },
    {
      "cell_type": "code",
      "metadata": {
        "id": "BMdpfgcg_vP0",
        "colab_type": "code",
        "colab": {},
        "outputId": "b6771129-4d67-4cd9-ccd2-3659096b390f"
      },
      "source": [
        "\"{name} is approximately {value}.\".format(value=pi, name=\"π\")  "
      ],
      "execution_count": null,
      "outputs": [
        {
          "output_type": "execute_result",
          "data": {
            "text/plain": [
              "'π is approximately 3.141592653589793.'"
            ]
          },
          "metadata": {
            "tags": []
          },
          "execution_count": 9
        }
      ]
    },
    {
      "cell_type": "code",
      "metadata": {
        "id": "y51sb0rB_vP3",
        "colab_type": "code",
        "colab": {},
        "outputId": "9e02b39e-8d01-4f09-edf0-fd75e03a0086"
      },
      "source": [
        "\"{foo} {} {bar} {}\".format(1, 2, bar=4, foo=3)\n"
      ],
      "execution_count": null,
      "outputs": [
        {
          "output_type": "execute_result",
          "data": {
            "text/plain": [
              "'3 1 4 2'"
            ]
          },
          "metadata": {
            "tags": []
          },
          "execution_count": 13
        }
      ]
    },
    {
      "cell_type": "code",
      "metadata": {
        "id": "yFKF0_Uq_vP8",
        "colab_type": "code",
        "colab": {},
        "outputId": "8465c7f7-5b53-4da1-a4bb-96911f795b7a"
      },
      "source": [
        "\"{foo} {1} {bar} {0}\".format(1, 2, bar=4, foo=3)"
      ],
      "execution_count": null,
      "outputs": [
        {
          "output_type": "execute_result",
          "data": {
            "text/plain": [
              "'3 2 4 1'"
            ]
          },
          "metadata": {
            "tags": []
          },
          "execution_count": 12
        }
      ]
    },
    {
      "cell_type": "code",
      "metadata": {
        "id": "gyW-fzkD_vQB",
        "colab_type": "code",
        "colab": {},
        "outputId": "bea91222-207e-4763-8e4f-48e20887f4d4"
      },
      "source": [
        "#taking values from list\n",
        "fullname = ['abhishek','singh','rathore']\n",
        "\"Dr. {name[2]}\".format(name=fullname)"
      ],
      "execution_count": null,
      "outputs": [
        {
          "output_type": "execute_result",
          "data": {
            "text/plain": [
              "'Dr. rathore'"
            ]
          },
          "metadata": {
            "tags": []
          },
          "execution_count": 14
        }
      ]
    },
    {
      "cell_type": "code",
      "metadata": {
        "id": "5Tkt2I3a_vQD",
        "colab_type": "code",
        "colab": {},
        "outputId": "b92941d2-6c31-449d-dc7a-e05d12c5e132"
      },
      "source": [
        "\"The number is {num}\".format(num=42)"
      ],
      "execution_count": null,
      "outputs": [
        {
          "output_type": "execute_result",
          "data": {
            "text/plain": [
              "'The number is 42'"
            ]
          },
          "metadata": {
            "tags": []
          },
          "execution_count": 15
        }
      ]
    },
    {
      "cell_type": "code",
      "metadata": {
        "id": "FVa1jXMV_vQG",
        "colab_type": "code",
        "colab": {
          "base_uri": "https://localhost:8080/",
          "height": 35
        },
        "outputId": "3ca90cf4-1f68-44a7-ba0f-ddf6849f339b"
      },
      "source": [
        "\"The number is {numa:f}\".format(numa=42)"
      ],
      "execution_count": null,
      "outputs": [
        {
          "output_type": "execute_result",
          "data": {
            "application/vnd.google.colaboratory.intrinsic+json": {
              "type": "string"
            },
            "text/plain": [
              "'The number is 42.000000'"
            ]
          },
          "metadata": {
            "tags": []
          },
          "execution_count": 1
        }
      ]
    },
    {
      "cell_type": "code",
      "metadata": {
        "id": "VGvl9wXN_vQI",
        "colab_type": "code",
        "colab": {},
        "outputId": "ec82a2eb-97e0-48ee-a505-c3d398a71fa8"
      },
      "source": [
        "\"The number is {num:.3f}\".format(num=42)"
      ],
      "execution_count": null,
      "outputs": [
        {
          "output_type": "execute_result",
          "data": {
            "text/plain": [
              "'The number is 42.000'"
            ]
          },
          "metadata": {
            "tags": []
          },
          "execution_count": 17
        }
      ]
    },
    {
      "cell_type": "code",
      "metadata": {
        "id": "dFwp8KIK_vQP",
        "colab_type": "code",
        "colab": {},
        "outputId": "67afa3d3-6f7c-478c-8ea7-d6fc4436a115"
      },
      "source": [
        "\"The number is {num:b}\".format(num=8)"
      ],
      "execution_count": null,
      "outputs": [
        {
          "output_type": "execute_result",
          "data": {
            "text/plain": [
              "'The number is 1000'"
            ]
          },
          "metadata": {
            "tags": []
          },
          "execution_count": 18
        }
      ]
    },
    {
      "cell_type": "code",
      "metadata": {
        "id": "qadR20VK_vQS",
        "colab_type": "code",
        "colab": {}
      },
      "source": [
        "b Formats an integer as a binary numeral.\n",
        "c Interprets an integer as a Unicode code point.\n",
        "d Formats an integer as a decimal numeral. Default for integers.\n",
        "e Formats a decimal number in scientific notation with e to indicate the exponent.\n",
        "E Same as e, but uses E to indicate the exponent.\n",
        "f Formats a decimal number with a fixed number of decimals.\n",
        "F Same as f, but formats special values (nan and inf) in uppercase.\n",
        "g Chooses between fixed and scientific notation automatically. Default for decimal numbers, except that the default version has at least one decimal.\n",
        "G Same as g, but uppercases the exponent indicator and special values.\n",
        "n Same as g, but inserts locale-dependent number separator characters.\n",
        "o Formats an integer as an octal numeral.\n",
        "s Formats a string as-is. Default for strings.\n",
        "x Formats an integer as a hexadecimal numeral, with lowercase letters.\n",
        "X Same as x, but with uppercase letters.\n",
        "% Formats a number as a percentage (multiplied by 100, formatted by f, followed by %)."
      ],
      "execution_count": null,
      "outputs": []
    },
    {
      "cell_type": "code",
      "metadata": {
        "id": "go-wOeEl_vQV",
        "colab_type": "code",
        "colab": {
          "base_uri": "https://localhost:8080/",
          "height": 51
        },
        "outputId": "e0d5947b-6aa0-40a3-f9ec-0826922510b0"
      },
      "source": [
        "#Widht\n",
        "print(\"{num:10}\".format(num=3))       #widht 10 and by default no is right aligned\n",
        "print(\"{name:10}\".format(name=\"Abhishek\")) # string is right aligned"
      ],
      "execution_count": null,
      "outputs": [
        {
          "output_type": "stream",
          "text": [
            "         3\n",
            "Abhishek  \n"
          ],
          "name": "stdout"
        }
      ]
    },
    {
      "cell_type": "code",
      "metadata": {
        "id": "Z5xKfPv7_vQZ",
        "colab_type": "code",
        "colab": {},
        "outputId": "6b909d83-e49f-469a-ef46-bccef1c04f8c"
      },
      "source": [
        "print(\"{name:10}\".format(name=\"AbhishekSinghRathore\"))"
      ],
      "execution_count": null,
      "outputs": [
        {
          "output_type": "stream",
          "text": [
            "AbhishekSinghRathore\n"
          ],
          "name": "stdout"
        }
      ]
    },
    {
      "cell_type": "code",
      "metadata": {
        "id": "tie9ugDb_vQo",
        "colab_type": "code",
        "colab": {},
        "outputId": "b931e503-fc32-45d2-ca84-45d897da239e"
      },
      "source": [
        "print(\"{pi:10.3f}\".format(pi=pi))    #width and precision"
      ],
      "execution_count": null,
      "outputs": [
        {
          "output_type": "stream",
          "text": [
            "     3.142\n"
          ],
          "name": "stdout"
        }
      ]
    },
    {
      "cell_type": "code",
      "metadata": {
        "id": "MC2l1_q0_vQx",
        "colab_type": "code",
        "colab": {},
        "outputId": "b021426a-c5f9-4dac-ba9d-0c54b3397460"
      },
      "source": [
        "print(\"{name:.8}\".format(name=\"AbhishekSinghRathore\"))  #selecting only 8 characters"
      ],
      "execution_count": null,
      "outputs": [
        {
          "output_type": "stream",
          "text": [
            "Abhishek\n"
          ],
          "name": "stdout"
        }
      ]
    },
    {
      "cell_type": "code",
      "metadata": {
        "id": "w7Am1s3h_vQ2",
        "colab_type": "code",
        "colab": {},
        "outputId": "2d0bdf4d-90b6-4ddb-cebe-3219f782afe1"
      },
      "source": [
        "print(\"{name:.810}\".format(name=\"AbhishekSinghRathore\"))"
      ],
      "execution_count": null,
      "outputs": [
        {
          "output_type": "stream",
          "text": [
            "Abhishek  \n"
          ],
          "name": "stdout"
        }
      ]
    },
    {
      "cell_type": "code",
      "metadata": {
        "id": "NqeVvnIE_vQ5",
        "colab_type": "code",
        "colab": {},
        "outputId": "9d0948b2-3840-423d-a6e8-85be354c6164"
      },
      "source": [
        "#Zero padding\n",
        "print('{:010.2f}'.format(pi))\n"
      ],
      "execution_count": null,
      "outputs": [
        {
          "output_type": "stream",
          "text": [
            "0000003.14\n"
          ],
          "name": "stdout"
        }
      ]
    },
    {
      "cell_type": "code",
      "metadata": {
        "id": "9au_Rs8r_vQ7",
        "colab_type": "code",
        "colab": {},
        "outputId": "9a981757-6162-4ead-d2bb-125a1adb13a3"
      },
      "source": [
        "# < left align, > right align, ^ center align\n",
        "print('{0:<10.2f}\\n{0:^10.2f}\\n{0:>10.2f}'.format(pi))    \n"
      ],
      "execution_count": null,
      "outputs": [
        {
          "output_type": "stream",
          "text": [
            "3.14      \n",
            "   3.14   \n",
            "      3.14\n"
          ],
          "name": "stdout"
        }
      ]
    },
    {
      "cell_type": "code",
      "metadata": {
        "id": "3bK1XwAU_vRD",
        "colab_type": "code",
        "colab": {
          "base_uri": "https://localhost:8080/",
          "height": 68
        },
        "outputId": "2d88f659-30cb-4610-afdc-53760900ee90"
      },
      "source": [
        "print(\"{name:a^10}\".format(name=\"Abhishek\"))\n",
        "print(\"{name:a>10}\".format(name=\"Abhishek\"))\n",
        "print(\"{name:a>6.4}\".format(name=\"Abhishek\"))"
      ],
      "execution_count": null,
      "outputs": [
        {
          "output_type": "stream",
          "text": [
            "aAbhisheka\n",
            "aaAbhishek\n",
            "aaAbhi\n"
          ],
          "name": "stdout"
        }
      ]
    },
    {
      "cell_type": "code",
      "metadata": {
        "id": "EQ2eFJEC_vRH",
        "colab_type": "code",
        "colab": {},
        "outputId": "3820d813-f443-4ac8-e126-c39cfdd29bb2"
      },
      "source": [
        "\"{:$^15}\".format(\" WIN BIG \")"
      ],
      "execution_count": null,
      "outputs": [
        {
          "output_type": "execute_result",
          "data": {
            "text/plain": [
              "'$$$ WIN BIG $$$'"
            ]
          },
          "metadata": {
            "tags": []
          },
          "execution_count": 39
        }
      ]
    },
    {
      "cell_type": "code",
      "metadata": {
        "id": "-bgBQYN__vRL",
        "colab_type": "code",
        "colab": {},
        "outputId": "58e4f4e8-fd8b-41e0-db20-2b57b0462547"
      },
      "source": [
        "print('{0:10.2f}\\n{1:10.2f}'.format(pi, -pi))"
      ],
      "execution_count": null,
      "outputs": [
        {
          "output_type": "stream",
          "text": [
            "      3.14\n",
            "     -3.14\n"
          ],
          "name": "stdout"
        }
      ]
    },
    {
      "cell_type": "code",
      "metadata": {
        "id": "ZcuAmNk2_vRQ",
        "colab_type": "code",
        "colab": {},
        "outputId": "e6122689-1a78-4318-f693-711a2c152a72"
      },
      "source": [
        "print('{0:10.2f}\\n{1:=10.2f}'.format(pi, -pi))\n",
        "# =, which places any fill characters between sign and digits"
      ],
      "execution_count": null,
      "outputs": [
        {
          "output_type": "stream",
          "text": [
            "      3.14\n",
            "-     3.14\n"
          ],
          "name": "stdout"
        }
      ]
    },
    {
      "cell_type": "code",
      "metadata": {
        "id": "WVZyTy35_vRU",
        "colab_type": "code",
        "colab": {},
        "outputId": "67cb60c0-52fb-48fe-fa13-3b8821bf345d"
      },
      "source": [
        "print('{0:-.2}\\n{1:-.2}'.format(pi, -pi)) # Default\n",
        "print('{0:+.2}\\n{1:+.2}'.format(pi, -pi))\n",
        "print('{0: .2}\\n{1: .2}'.format(pi, -pi))"
      ],
      "execution_count": null,
      "outputs": [
        {
          "output_type": "stream",
          "text": [
            "3.1\n",
            "-3.1\n",
            "+3.1\n",
            "-3.1\n",
            " 3.1\n",
            "-3.1\n"
          ],
          "name": "stdout"
        }
      ]
    },
    {
      "cell_type": "code",
      "metadata": {
        "id": "TqLsIBpQ_vRX",
        "colab_type": "code",
        "colab": {},
        "outputId": "a76e1bf5-7c54-4c76-df08-e39e9dc8c82d"
      },
      "source": [
        "\"{:b}\".format(42)"
      ],
      "execution_count": null,
      "outputs": [
        {
          "output_type": "execute_result",
          "data": {
            "text/plain": [
              "'101010'"
            ]
          },
          "metadata": {
            "tags": []
          },
          "execution_count": 47
        }
      ]
    },
    {
      "cell_type": "code",
      "metadata": {
        "id": "-HvGaujP_vRZ",
        "colab_type": "code",
        "colab": {},
        "outputId": "abb76683-606d-4fb9-dba2-daf9f1647072"
      },
      "source": [
        "\"{:#b}\".format(42)"
      ],
      "execution_count": null,
      "outputs": [
        {
          "output_type": "execute_result",
          "data": {
            "text/plain": [
              "'0b101010'"
            ]
          },
          "metadata": {
            "tags": []
          },
          "execution_count": 48
        }
      ]
    },
    {
      "cell_type": "code",
      "metadata": {
        "id": "bka7HSGN_vRc",
        "colab_type": "code",
        "colab": {},
        "outputId": "30da2f1e-e2f6-4702-bd8c-a95408e784da"
      },
      "source": [
        "# Print a formatted price list with a given width\n",
        "width = int(input('Please enter width: '))\n",
        "price_width = 10\n",
        "item_width = width - price_width\n",
        "header_fmt = '{{:{}}}{{:>{}}}'.format(item_width, price_width)\n",
        "fmt = '{{:{}}}{{:>{}.2f}}'.format(item_width, price_width)\n",
        "print('=' * width)\n",
        "print(header_fmt.format('Item', 'Price'))\n",
        "print('-' * width)\n",
        "print(fmt.format('Apples', 0.4))\n",
        "print(fmt.format('Pears', 0.5))\n",
        "print(fmt.format('Cantaloupes', 1.92))\n",
        "print(fmt.format('Dried Apricots (16 oz.)', 8))\n",
        "print(fmt.format('Prunes (4 lbs.)', 12))\n",
        "print('=' * width)"
      ],
      "execution_count": null,
      "outputs": [
        {
          "output_type": "stream",
          "text": [
            "Please enter width:  50\n"
          ],
          "name": "stdin"
        },
        {
          "output_type": "stream",
          "text": [
            "==================================================\n",
            "Item                                         Price\n",
            "--------------------------------------------------\n",
            "Apples                                        0.40\n",
            "Pears                                         0.50\n",
            "Cantaloupes                                   1.92\n",
            "Dried Apricots (16 oz.)                       8.00\n",
            "Prunes (4 lbs.)                              12.00\n",
            "==================================================\n"
          ],
          "name": "stdout"
        }
      ]
    },
    {
      "cell_type": "code",
      "metadata": {
        "id": "pKnUL9ee_vRm",
        "colab_type": "code",
        "colab": {},
        "outputId": "1528abb1-f93b-42e5-e6cb-c481c8ebd154"
      },
      "source": [
        "#center\n",
        "print(\"The Middle by Jimmy Eat World\".center(39))\n",
        "print(\"The Middle by Jimmy Eat World\".center(39, \"*\"))"
      ],
      "execution_count": null,
      "outputs": [
        {
          "output_type": "stream",
          "text": [
            "     The Middle by Jimmy Eat World     \n",
            "*****The Middle by Jimmy Eat World*****\n"
          ],
          "name": "stdout"
        }
      ]
    },
    {
      "cell_type": "code",
      "metadata": {
        "id": "uzlu1tuH_vRo",
        "colab_type": "code",
        "colab": {},
        "outputId": "baa68bc5-d8b8-4efe-dfc3-17aff6f4a630"
      },
      "source": [
        "\"Abhishek singh rathore\".find(\"Abhi\")"
      ],
      "execution_count": null,
      "outputs": [
        {
          "output_type": "execute_result",
          "data": {
            "text/plain": [
              "0"
            ]
          },
          "metadata": {
            "tags": []
          },
          "execution_count": 52
        }
      ]
    },
    {
      "cell_type": "code",
      "metadata": {
        "id": "qrBGhaG8_vRq",
        "colab_type": "code",
        "colab": {},
        "outputId": "6fb781ca-0e2c-400c-a748-926cf72b71d7"
      },
      "source": [
        "\"Abhishek singh rathore\".find(\"hi\")"
      ],
      "execution_count": null,
      "outputs": [
        {
          "output_type": "execute_result",
          "data": {
            "text/plain": [
              "2"
            ]
          },
          "metadata": {
            "tags": []
          },
          "execution_count": 53
        }
      ]
    },
    {
      "cell_type": "code",
      "metadata": {
        "id": "8GEHqhEe_vRs",
        "colab_type": "code",
        "colab": {},
        "outputId": "e3a5cab0-24e9-4538-d246-d9ba66d951f2"
      },
      "source": [
        "name = \"Abhishek Singh Rathore\"\n",
        "name.find(\" \")"
      ],
      "execution_count": null,
      "outputs": [
        {
          "output_type": "execute_result",
          "data": {
            "text/plain": [
              "8"
            ]
          },
          "metadata": {
            "tags": []
          },
          "execution_count": 54
        }
      ]
    },
    {
      "cell_type": "code",
      "metadata": {
        "id": "cupZpkGy_vRx",
        "colab_type": "code",
        "colab": {},
        "outputId": "f002c564-ed0a-4379-e2fc-35cc5aef5835"
      },
      "source": [
        "name.find(\"Singh\")"
      ],
      "execution_count": null,
      "outputs": [
        {
          "output_type": "execute_result",
          "data": {
            "text/plain": [
              "9"
            ]
          },
          "metadata": {
            "tags": []
          },
          "execution_count": 55
        }
      ]
    },
    {
      "cell_type": "code",
      "metadata": {
        "id": "IZs1LH88_vRz",
        "colab_type": "code",
        "colab": {},
        "outputId": "63da6ff5-8901-4482-cc35-33814f762af6"
      },
      "source": [
        "name.find(\"Hello\")"
      ],
      "execution_count": null,
      "outputs": [
        {
          "output_type": "execute_result",
          "data": {
            "text/plain": [
              "-1"
            ]
          },
          "metadata": {
            "tags": []
          },
          "execution_count": 56
        }
      ]
    },
    {
      "cell_type": "code",
      "metadata": {
        "id": "Yg7666cB_vR2",
        "colab_type": "code",
        "colab": {},
        "outputId": "aa5d1b6b-f812-4291-811a-ba72c2cfe477"
      },
      "source": [
        "name = \"Abhishek singh rathore Abhishek\"\n",
        "name.find(\"Abhi\",1)"
      ],
      "execution_count": null,
      "outputs": [
        {
          "output_type": "execute_result",
          "data": {
            "text/plain": [
              "23"
            ]
          },
          "metadata": {
            "tags": []
          },
          "execution_count": 57
        }
      ]
    },
    {
      "cell_type": "code",
      "metadata": {
        "id": "CtIA2-jw_vR4",
        "colab_type": "code",
        "colab": {},
        "outputId": "cf80b929-1a53-45b3-b522-f5bc8e42504c"
      },
      "source": [
        "#Join\n",
        "seq = [1, 2, 3, 4, 5]\n",
        "sep = '+'\n",
        "sep.join(seq)"
      ],
      "execution_count": null,
      "outputs": [
        {
          "output_type": "error",
          "ename": "TypeError",
          "evalue": "sequence item 0: expected str instance, int found",
          "traceback": [
            "\u001b[1;31m---------------------------------------------------------------------------\u001b[0m",
            "\u001b[1;31mTypeError\u001b[0m                                 Traceback (most recent call last)",
            "\u001b[1;32m<ipython-input-65-0c6f9521e56c>\u001b[0m in \u001b[0;36m<module>\u001b[1;34m\u001b[0m\n\u001b[0;32m      2\u001b[0m \u001b[0mseq\u001b[0m \u001b[1;33m=\u001b[0m \u001b[1;33m[\u001b[0m\u001b[1;36m1\u001b[0m\u001b[1;33m,\u001b[0m \u001b[1;36m2\u001b[0m\u001b[1;33m,\u001b[0m \u001b[1;36m3\u001b[0m\u001b[1;33m,\u001b[0m \u001b[1;36m4\u001b[0m\u001b[1;33m,\u001b[0m \u001b[1;36m5\u001b[0m\u001b[1;33m]\u001b[0m\u001b[1;33m\u001b[0m\u001b[1;33m\u001b[0m\u001b[0m\n\u001b[0;32m      3\u001b[0m \u001b[0msep\u001b[0m \u001b[1;33m=\u001b[0m \u001b[1;34m'+'\u001b[0m\u001b[1;33m\u001b[0m\u001b[1;33m\u001b[0m\u001b[0m\n\u001b[1;32m----> 4\u001b[1;33m \u001b[0msep\u001b[0m\u001b[1;33m.\u001b[0m\u001b[0mjoin\u001b[0m\u001b[1;33m(\u001b[0m\u001b[0mseq\u001b[0m\u001b[1;33m)\u001b[0m\u001b[1;33m\u001b[0m\u001b[1;33m\u001b[0m\u001b[0m\n\u001b[0m",
            "\u001b[1;31mTypeError\u001b[0m: sequence item 0: expected str instance, int found"
          ]
        }
      ]
    },
    {
      "cell_type": "code",
      "metadata": {
        "id": "ibaM0a_u_vR7",
        "colab_type": "code",
        "colab": {
          "base_uri": "https://localhost:8080/",
          "height": 35
        },
        "outputId": "19aa7e91-22fc-4fc0-ba30-0085d3e8cedb"
      },
      "source": [
        "seq = [\"1\", \"2\", \"3\", \"4\", \"5\"]\n",
        "sep = '+-'\n",
        "sep.join(seq)"
      ],
      "execution_count": null,
      "outputs": [
        {
          "output_type": "execute_result",
          "data": {
            "application/vnd.google.colaboratory.intrinsic+json": {
              "type": "string"
            },
            "text/plain": [
              "'1+-2+-3+-4+-5'"
            ]
          },
          "metadata": {
            "tags": []
          },
          "execution_count": 6
        }
      ]
    },
    {
      "cell_type": "code",
      "metadata": {
        "id": "ljFoqVw9_vR9",
        "colab_type": "code",
        "colab": {},
        "outputId": "05693405-5aa5-4a9f-93f2-6061ef1b167f"
      },
      "source": [
        "dirs = '', 'usr', 'bin', 'env'\n",
        "'/'.join(dirs)"
      ],
      "execution_count": null,
      "outputs": [
        {
          "output_type": "execute_result",
          "data": {
            "text/plain": [
              "'/usr/bin/env'"
            ]
          },
          "metadata": {
            "tags": []
          },
          "execution_count": 67
        }
      ]
    },
    {
      "cell_type": "code",
      "metadata": {
        "id": "8n0sNTQZ_vSH",
        "colab_type": "code",
        "colab": {},
        "outputId": "4b6d96e1-92ee-494f-865c-b799d69bbd2b"
      },
      "source": [
        "print('C:' + '\\\\'.join(dirs))"
      ],
      "execution_count": null,
      "outputs": [
        {
          "output_type": "stream",
          "text": [
            "C:\\usr\\bin\\env\n"
          ],
          "name": "stdout"
        }
      ]
    },
    {
      "cell_type": "code",
      "metadata": {
        "id": "GKcODZ74_vSK",
        "colab_type": "code",
        "colab": {},
        "outputId": "4720173c-895b-4f58-ebe6-5454d7b03f57"
      },
      "source": [
        "# lower\n",
        "name = \"Abhishek SINGH RathoRe\"\n",
        "print(name.lower())\n"
      ],
      "execution_count": null,
      "outputs": [
        {
          "output_type": "stream",
          "text": [
            "abhishek singh rathore\n"
          ],
          "name": "stdout"
        }
      ]
    },
    {
      "cell_type": "code",
      "metadata": {
        "id": "8QhmNhb3_vSM",
        "colab_type": "code",
        "colab": {}
      },
      "source": [
        "if 'abhishek' in name:print(\"Found\")"
      ],
      "execution_count": null,
      "outputs": []
    },
    {
      "cell_type": "code",
      "metadata": {
        "id": "OEasVFiU_vSS",
        "colab_type": "code",
        "colab": {},
        "outputId": "0b04f004-4dfc-4782-ba40-59d4abaf6513"
      },
      "source": [
        "if 'abhishek' in name.lower() :print(\"Found\")"
      ],
      "execution_count": null,
      "outputs": [
        {
          "output_type": "stream",
          "text": [
            "Found\n"
          ],
          "name": "stdout"
        }
      ]
    },
    {
      "cell_type": "code",
      "metadata": {
        "id": "qHuWj9QJ_vSV",
        "colab_type": "code",
        "colab": {},
        "outputId": "beebc6d2-0265-40e8-f0a7-403a7e32b1e5"
      },
      "source": [
        "#Title Ccasing\n",
        "\"that's all folks\".title()"
      ],
      "execution_count": null,
      "outputs": [
        {
          "output_type": "execute_result",
          "data": {
            "text/plain": [
              "\"That'S All Folks\""
            ]
          },
          "metadata": {
            "tags": []
          },
          "execution_count": 73
        }
      ]
    },
    {
      "cell_type": "code",
      "metadata": {
        "id": "VgyvJzs3_vSZ",
        "colab_type": "code",
        "colab": {},
        "outputId": "5e174da4-c322-432e-b506-a20c551b7f54"
      },
      "source": [
        "#Alternative\n",
        "import string\n",
        "string.capwords(\"that's all, folks\")"
      ],
      "execution_count": null,
      "outputs": [
        {
          "output_type": "execute_result",
          "data": {
            "text/plain": [
              "\"That's All, Folks\""
            ]
          },
          "metadata": {
            "tags": []
          },
          "execution_count": 74
        }
      ]
    },
    {
      "cell_type": "code",
      "metadata": {
        "id": "1SrtoDC4_vSc",
        "colab_type": "code",
        "colab": {},
        "outputId": "d43bc683-67b5-4ac3-ccf4-69789f209d4d"
      },
      "source": [
        "# replace\n",
        "'This is a test'.replace('is', 'eez')"
      ],
      "execution_count": null,
      "outputs": [
        {
          "output_type": "execute_result",
          "data": {
            "text/plain": [
              "'Theez eez a test'"
            ]
          },
          "metadata": {
            "tags": []
          },
          "execution_count": 75
        }
      ]
    },
    {
      "cell_type": "code",
      "metadata": {
        "id": "QhIIC_5u_vSf",
        "colab_type": "code",
        "colab": {},
        "outputId": "7d14b947-047b-48b8-a8fb-5dca47bf0045"
      },
      "source": [
        "# Split\n",
        "print('1+2+3+4+5'.split('+'))\n",
        "print('/usr/bin/env'.split('/'))\n",
        "'Using the default'.split()"
      ],
      "execution_count": null,
      "outputs": [
        {
          "output_type": "stream",
          "text": [
            "['1', '2', '3', '4', '5']\n",
            "['', 'usr', 'bin', 'env']\n"
          ],
          "name": "stdout"
        },
        {
          "output_type": "execute_result",
          "data": {
            "text/plain": [
              "['Using', 'the', 'default']"
            ]
          },
          "metadata": {
            "tags": []
          },
          "execution_count": 76
        }
      ]
    },
    {
      "cell_type": "code",
      "metadata": {
        "id": "DgSPbamB_vSi",
        "colab_type": "code",
        "colab": {},
        "outputId": "3062a9a8-574e-4da1-8fe9-ef1b3978ba04"
      },
      "source": [
        "# The strip method returns a string where whitespace on the left and right (but not internally) has been stripped\n",
        "' internal whitespace is kept '.strip()"
      ],
      "execution_count": null,
      "outputs": [
        {
          "output_type": "execute_result",
          "data": {
            "text/plain": [
              "'internal whitespace is kept'"
            ]
          },
          "metadata": {
            "tags": []
          },
          "execution_count": 77
        }
      ]
    },
    {
      "cell_type": "code",
      "metadata": {
        "id": "LS6YkoGk_vSk",
        "colab_type": "code",
        "colab": {},
        "outputId": "f75d791c-708d-4b8c-ea78-3b52bce35ebb"
      },
      "source": [
        "print(name)\n",
        "search = \" Abhishek\"\n",
        "if search in name: print(\"found in first if\")\n",
        "\n",
        "if search.strip() in name: print('found in second if')"
      ],
      "execution_count": null,
      "outputs": [
        {
          "output_type": "stream",
          "text": [
            "Abhishek SINGH RathoRe\n",
            "found in second if\n"
          ],
          "name": "stdout"
        }
      ]
    },
    {
      "cell_type": "code",
      "metadata": {
        "id": "G9lTWA3J_vSm",
        "colab_type": "code",
        "colab": {
          "base_uri": "https://localhost:8080/",
          "height": 34
        },
        "outputId": "9fb5d885-3d3a-41ef-fe55-b57e5c46a7e5"
      },
      "source": [
        "# specific character to strip\n",
        "name = \"abhishek singh rahtore\"\n",
        "print(name.strip(\"rathore\"))"
      ],
      "execution_count": null,
      "outputs": [
        {
          "output_type": "stream",
          "text": [
            "bhishek singh \n"
          ],
          "name": "stdout"
        }
      ]
    },
    {
      "cell_type": "code",
      "metadata": {
        "id": "ZHc9Gkfc_vSq",
        "colab_type": "code",
        "colab": {},
        "outputId": "40863826-34ba-493a-d4d1-8a0027c88491"
      },
      "source": [
        "teststring = \"  Hello how are you       \"\n",
        "print(teststring.strip())\n",
        "print(teststring)\n",
        "print(teststring.lstrip()+ \"hello\")\n",
        "print(teststring.rstrip()+ \"hello\")"
      ],
      "execution_count": null,
      "outputs": [
        {
          "output_type": "stream",
          "text": [
            "Hello how are you\n",
            "  Hello how are you       \n",
            "Hello how are you       hello\n",
            "  Hello how are youhello\n"
          ],
          "name": "stdout"
        }
      ]
    },
    {
      "cell_type": "code",
      "metadata": {
        "id": "F8RSvtFo_vSv",
        "colab_type": "code",
        "colab": {},
        "outputId": "0522eb35-45e8-4d56-badb-1546e3ab591e"
      },
      "source": [
        "#translate\n",
        "# Similar to replace, unlike replace, translate works only with single characters \n",
        "#Its strength lies in that it can perform several replacements simultaneously and can do so more efficiently than replace\n",
        "\n",
        "#first make trasnlation table\n",
        "table = str.maketrans('cs', 'kz')\n",
        "print(table)\n",
        "'this is an incredible test'.translate(table)"
      ],
      "execution_count": null,
      "outputs": [
        {
          "output_type": "stream",
          "text": [
            "{99: 107, 115: 122}\n"
          ],
          "name": "stdout"
        },
        {
          "output_type": "execute_result",
          "data": {
            "text/plain": [
              "'thiz iz an inkredible tezt'"
            ]
          },
          "metadata": {
            "tags": []
          },
          "execution_count": 96
        }
      ]
    },
    {
      "cell_type": "code",
      "metadata": {
        "id": "pmwCwsRu_vS0",
        "colab_type": "code",
        "colab": {},
        "outputId": "a27c1ac6-a9ad-45e3-f393-6523321e5163"
      },
      "source": [
        "#third parameter to delete specific letter\n",
        "table = str.maketrans('cs', 'kz', 't')\n",
        "'this is an incredible test'.translate(table)"
      ],
      "execution_count": null,
      "outputs": [
        {
          "output_type": "execute_result",
          "data": {
            "text/plain": [
              "'hiz iz an inkredible ez'"
            ]
          },
          "metadata": {
            "tags": []
          },
          "execution_count": 97
        }
      ]
    },
    {
      "cell_type": "code",
      "metadata": {
        "id": "QZhTNfYw_vS4",
        "colab_type": "code",
        "colab": {},
        "outputId": "833c3a60-6e4e-4e67-a3c8-1d1377cb498f"
      },
      "source": [
        "table = str.maketrans('cs', 'kz', ' ')\n",
        "'this is an incredible test'.translate(table)"
      ],
      "execution_count": null,
      "outputs": [
        {
          "output_type": "execute_result",
          "data": {
            "text/plain": [
              "'thizizaninkredibletezt'"
            ]
          },
          "metadata": {
            "tags": []
          },
          "execution_count": 98
        }
      ]
    },
    {
      "cell_type": "code",
      "metadata": {
        "id": "_N0K_3IQ_vS6",
        "colab_type": "code",
        "colab": {}
      },
      "source": [
        "# Try\n",
        "isalnum, isalpha, isdecimal, isdigit, isidentifier, islower, isnumeric, isprintable,\n",
        "isspace, istitle, isupper\n"
      ],
      "execution_count": null,
      "outputs": []
    },
    {
      "cell_type": "code",
      "metadata": {
        "id": "_KasOCe__vS-",
        "colab_type": "code",
        "colab": {}
      },
      "source": [
        ""
      ],
      "execution_count": null,
      "outputs": []
    }
  ]
}