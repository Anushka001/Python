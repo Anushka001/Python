{
  "nbformat": 4,
  "nbformat_minor": 0,
  "metadata": {
    "kernelspec": {
      "display_name": "Python 3",
      "language": "python",
      "name": "python3"
    },
    "language_info": {
      "codemirror_mode": {
        "name": "ipython",
        "version": 3
      },
      "file_extension": ".py",
      "mimetype": "text/x-python",
      "name": "python",
      "nbconvert_exporter": "python",
      "pygments_lexer": "ipython3",
      "version": "3.7.3"
    },
    "colab": {
      "name": "4 Dictionaries.ipynb",
      "provenance": [],
      "include_colab_link": true
    }
  },
  "cells": [
    {
      "cell_type": "markdown",
      "metadata": {
        "id": "view-in-github",
        "colab_type": "text"
      },
      "source": [
        "<a href=\"https://colab.research.google.com/github/abhishekatujjain/Python/blob/master/4_Dictionaries.ipynb\" target=\"_parent\"><img src=\"https://colab.research.google.com/assets/colab-badge.svg\" alt=\"Open In Colab\"/></a>"
      ]
    },
    {
      "cell_type": "code",
      "metadata": {
        "id": "3Se8acjPlSrw",
        "colab_type": "code",
        "colab": {}
      },
      "source": [
        "names = ['Abhishek','Anuraj','Ajay','Amit','Veer']  \n",
        "years = [1984,2015,1982,1989,2018]"
      ],
      "execution_count": null,
      "outputs": []
    },
    {
      "cell_type": "code",
      "metadata": {
        "id": "dkJouj3SlSr0",
        "colab_type": "code",
        "colab": {},
        "outputId": "ca0f8f73-0a5d-40e4-ca55-c7da0c4fce2a"
      },
      "source": [
        "# check my year of icy's year of birth\n",
        "years[names.index('Anuraj')]"
      ],
      "execution_count": null,
      "outputs": [
        {
          "output_type": "execute_result",
          "data": {
            "text/plain": [
              "2015"
            ]
          },
          "metadata": {
            "tags": []
          },
          "execution_count": 2
        }
      ]
    },
    {
      "cell_type": "code",
      "metadata": {
        "id": "NlhVcydslSr4",
        "colab_type": "code",
        "colab": {},
        "outputId": "f012a1ac-40a2-49d6-e6df-3ec6fcf6813c"
      },
      "source": [
        "# Dictionaries: I'm associating values with keys\n",
        "#keys are name and values are their year of birth\n",
        "#one way is shown above\n",
        "# Another way: Create Dictionaries\n",
        "phonebook = {'Abhishek': 20377, 'Ajay' : 35044, 'Amit': 38085}\n",
        "phonebook"
      ],
      "execution_count": null,
      "outputs": [
        {
          "output_type": "execute_result",
          "data": {
            "text/plain": [
              "{'Abhishek': 20377, 'Ajay': 35044, 'Amit': 38085}"
            ]
          },
          "metadata": {
            "tags": []
          },
          "execution_count": 3
        }
      ]
    },
    {
      "cell_type": "code",
      "metadata": {
        "id": "FiCGavU7lSr7",
        "colab_type": "code",
        "colab": {
          "base_uri": "https://localhost:8080/",
          "height": 51
        },
        "outputId": "03ee1842-aaae-499a-b970-ebc5adf028e2"
      },
      "source": [
        "# Another way, using dict()\n",
        "#create list\n",
        "l = [('name','Abhishek'),('age',36),('univ','svvv')]\n",
        "print(l)\n",
        "d = dict(l)\n",
        "print(d)"
      ],
      "execution_count": null,
      "outputs": [
        {
          "output_type": "stream",
          "text": [
            "[('name', 'Abhishek'), ('age', 36), ('univ', 'svvv')]\n",
            "{'name': 'Abhishek', 'age': 36, 'univ': 'svvv'}\n"
          ],
          "name": "stdout"
        }
      ]
    },
    {
      "cell_type": "code",
      "metadata": {
        "id": "OAYzqOVYlSr-",
        "colab_type": "code",
        "colab": {},
        "outputId": "528ec491-ed4e-498a-8c83-7119cea50301"
      },
      "source": [
        "# Another way\n",
        "d1 = dict(name='Abhishek',age=36)\n",
        "print(d1)"
      ],
      "execution_count": null,
      "outputs": [
        {
          "output_type": "stream",
          "text": [
            "{'name': 'Abhishek', 'age': 36}\n"
          ],
          "name": "stdout"
        }
      ]
    },
    {
      "cell_type": "code",
      "metadata": {
        "id": "cEpy627HlSsC",
        "colab_type": "code",
        "colab": {},
        "outputId": "ee691310-832d-4beb-90f4-2f3a99afbe24"
      },
      "source": [
        "len(d1)"
      ],
      "execution_count": null,
      "outputs": [
        {
          "output_type": "execute_result",
          "data": {
            "text/plain": [
              "2"
            ]
          },
          "metadata": {
            "tags": []
          },
          "execution_count": 8
        }
      ]
    },
    {
      "cell_type": "code",
      "metadata": {
        "id": "n7ic_UdGlSsE",
        "colab_type": "code",
        "colab": {},
        "outputId": "eb2d2a49-e777-48aa-96b5-df31d92c4f6a"
      },
      "source": [
        "len(phonebook)\n"
      ],
      "execution_count": null,
      "outputs": [
        {
          "output_type": "execute_result",
          "data": {
            "text/plain": [
              "3"
            ]
          },
          "metadata": {
            "tags": []
          },
          "execution_count": 9
        }
      ]
    },
    {
      "cell_type": "code",
      "metadata": {
        "id": "yPMsmwUWlSsH",
        "colab_type": "code",
        "colab": {},
        "outputId": "213854b3-5234-47f1-b1b3-007f75a79ac4"
      },
      "source": [
        "print(phonebook['Abhishek'])\n",
        "# when Abhishek is not present in dictionary, it will return error"
      ],
      "execution_count": null,
      "outputs": [
        {
          "output_type": "stream",
          "text": [
            "20377\n"
          ],
          "name": "stdout"
        }
      ]
    },
    {
      "cell_type": "code",
      "metadata": {
        "id": "rjBoeI81lSsP",
        "colab_type": "code",
        "colab": {},
        "outputId": "7ab14fc3-dd29-4afb-a51d-993a42c31f94"
      },
      "source": [
        "phonebook['Ajay'] = 99266\n",
        "print(phonebook[\"Ajay\"])"
      ],
      "execution_count": null,
      "outputs": [
        {
          "output_type": "stream",
          "text": [
            "99266\n"
          ],
          "name": "stdout"
        }
      ]
    },
    {
      "cell_type": "code",
      "metadata": {
        "id": "RRKaS50KlSsX",
        "colab_type": "code",
        "colab": {}
      },
      "source": [
        "del phonebook['Amit']"
      ],
      "execution_count": null,
      "outputs": []
    },
    {
      "cell_type": "code",
      "metadata": {
        "id": "LRCaZpjJlSsh",
        "colab_type": "code",
        "colab": {},
        "outputId": "996e982e-0af3-43b7-a9e7-df19a9f64ceb"
      },
      "source": [
        "print(phonebook)"
      ],
      "execution_count": null,
      "outputs": [
        {
          "output_type": "stream",
          "text": [
            "{'Abhishek': 20377, 'Ajay': 99266}\n"
          ],
          "name": "stdout"
        }
      ]
    },
    {
      "cell_type": "code",
      "metadata": {
        "id": "oVeH-hmjlSs0",
        "colab_type": "code",
        "colab": {},
        "outputId": "0589f9c9-66d1-4ba4-fd75-8a5eeba7125d"
      },
      "source": [
        "\"Ajay\" in phonebook"
      ],
      "execution_count": null,
      "outputs": [
        {
          "output_type": "execute_result",
          "data": {
            "text/plain": [
              "True"
            ]
          },
          "metadata": {
            "tags": []
          },
          "execution_count": 20
        }
      ]
    },
    {
      "cell_type": "code",
      "metadata": {
        "id": "gQffYL48lSs2",
        "colab_type": "code",
        "colab": {},
        "outputId": "58ab4035-03ca-45f9-c99a-d98be85b5655"
      },
      "source": [
        "# A simple database\n",
        "# A dictionary with person names as keys. Each person is represented as\n",
        "# another dictionary with the keys 'phone' and 'addr' referring to their phone\n",
        "# number and address, respectively.\n",
        "people = {\n",
        "'Alice': {\n",
        "'phone': '2341',\n",
        "'addr': 'Foo drive 23'\n",
        "},\n",
        "'Beth': {\n",
        "'phone': '9102',\n",
        "'addr': 'Bar street 42'\n",
        "},\n",
        "'Cecil': {\n",
        "'phone': '3158',\n",
        "'addr': 'Baz avenue 90'\n",
        "}\n",
        "}\n",
        "# Descriptive labels for the phone number and address. These will be used\n",
        "# when printing the output.\n",
        "labels = {\n",
        "'phone': 'phone number',\n",
        "'addr': 'address'\n",
        "}\n",
        "name = input('Name: ')\n",
        "# Are we looking for a phone number or an address?\n",
        "request = input('Phone number (p) or address (a)? ')\n",
        "# Use the correct key:\n",
        "if request == 'p': key = 'phone'\n",
        "if request == 'a': key = 'addr'\n",
        "# Only try to print information if the name is a valid key in\n",
        "# our dictionary:\n",
        "if name in people: print(\"{}'s {} is {}.\".format(name, labels[key], people[name][key]))"
      ],
      "execution_count": null,
      "outputs": [
        {
          "output_type": "stream",
          "text": [
            "Name:  Beth\n",
            "Phone number (p) or address (a)?  p\n"
          ],
          "name": "stdin"
        },
        {
          "output_type": "stream",
          "text": [
            "Beth's phone number is 9102.\n"
          ],
          "name": "stdout"
        }
      ]
    },
    {
      "cell_type": "code",
      "metadata": {
        "id": "ngZUtPbllSs5",
        "colab_type": "code",
        "colab": {},
        "outputId": "9a4f5ea2-e2f0-4986-c883-f3192da10de5"
      },
      "source": [
        "#String formatting with Dictionaries\n",
        "\"Abhishek's phone number is {Abhishek}.\".format_map(phonebook)"
      ],
      "execution_count": null,
      "outputs": [
        {
          "output_type": "execute_result",
          "data": {
            "text/plain": [
              "\"Abhishek's phone number is 20377.\""
            ]
          },
          "metadata": {
            "tags": []
          },
          "execution_count": 22
        }
      ]
    },
    {
      "cell_type": "code",
      "metadata": {
        "id": "HKa4ou0plSs7",
        "colab_type": "code",
        "colab": {},
        "outputId": "c8616202-7ac4-4960-9224-73fc4a498016"
      },
      "source": [
        "#clear the dictionary\n",
        "d = {}\n",
        "d['name'] = 'Gumby'\n",
        "d['age'] = 42\n",
        "print(d)\n",
        "returned_value = d.clear()\n",
        "print(d)\n",
        "print(returned_value)"
      ],
      "execution_count": null,
      "outputs": [
        {
          "output_type": "stream",
          "text": [
            "{'name': 'Gumby', 'age': 42}\n",
            "{}\n",
            "None\n"
          ],
          "name": "stdout"
        }
      ]
    },
    {
      "cell_type": "code",
      "metadata": {
        "id": "5zeORC27lSs-",
        "colab_type": "code",
        "colab": {},
        "outputId": "6471d582-194d-4037-b2c6-ed3229981a74"
      },
      "source": [
        "#copy\n",
        "x = {'username': 'admin', 'machines': ['foo', 'bar', 'baz']}\n",
        "y = x.copy()\n",
        "y['username'] = 'mlh'\n",
        "y['machines'].remove('bar')\n",
        "print(y)\n",
        "print(x)"
      ],
      "execution_count": null,
      "outputs": [
        {
          "output_type": "stream",
          "text": [
            "{'username': 'mlh', 'machines': ['foo', 'baz']}\n",
            "{'username': 'admin', 'machines': ['foo', 'baz']}\n"
          ],
          "name": "stdout"
        }
      ]
    },
    {
      "cell_type": "code",
      "metadata": {
        "id": "WBX7vhvMlStC",
        "colab_type": "code",
        "colab": {},
        "outputId": "bfbe75ea-6fcd-47f8-9e24-8b6b3072b7e0"
      },
      "source": [
        "#In copy, if you replace value, original is unaffected, but if you modify the value, orginal also get affected\n",
        "# therefore we go for deep copy\n",
        "from copy import deepcopy\n",
        "d ={}\n",
        "d['names'] = ['A', 'B']\n",
        "c=d.copy()\n",
        "dc=deepcopy(d)\n",
        "d['names'].append('C')\n",
        "print(c)\n",
        "print(dc)"
      ],
      "execution_count": null,
      "outputs": [
        {
          "output_type": "stream",
          "text": [
            "{'names': ['A', 'B', 'C']}\n",
            "{'names': ['A', 'B']}\n"
          ],
          "name": "stdout"
        }
      ]
    },
    {
      "cell_type": "code",
      "metadata": {
        "id": "Y91diINPlStF",
        "colab_type": "code",
        "colab": {},
        "outputId": "bb24812c-1b31-47eb-8e1b-e15d46e2d031"
      },
      "source": [
        "#The fromkeys method creates a new dictionary with the given keys\n",
        "{}.fromkeys(['name', 'age'])"
      ],
      "execution_count": null,
      "outputs": [
        {
          "output_type": "execute_result",
          "data": {
            "text/plain": [
              "{'name': None, 'age': None}"
            ]
          },
          "metadata": {
            "tags": []
          },
          "execution_count": 2
        }
      ]
    },
    {
      "cell_type": "code",
      "metadata": {
        "id": "sTsb6FqwlStI",
        "colab_type": "code",
        "colab": {},
        "outputId": "6a4f4bb5-55d2-404a-eaeb-3c77c7a95c8a"
      },
      "source": [
        "# Redundant way: Good way is\n",
        "dict.fromkeys(['name', 'age'])"
      ],
      "execution_count": null,
      "outputs": [
        {
          "output_type": "execute_result",
          "data": {
            "text/plain": [
              "{'name': None, 'age': None}"
            ]
          },
          "metadata": {
            "tags": []
          },
          "execution_count": 3
        }
      ]
    },
    {
      "cell_type": "code",
      "metadata": {
        "id": "fFooJ0nzlStK",
        "colab_type": "code",
        "colab": {}
      },
      "source": [
        "# Don't want none, supply default values\n",
        "a = dict.fromkeys(['name', 'age'],'unkown')"
      ],
      "execution_count": null,
      "outputs": []
    },
    {
      "cell_type": "code",
      "metadata": {
        "id": "F_eC7BJIlStM",
        "colab_type": "code",
        "colab": {},
        "outputId": "72a4e3bb-50c8-4771-c6e4-c25d927e59e5"
      },
      "source": [
        "print(a['name'])"
      ],
      "execution_count": null,
      "outputs": [
        {
          "output_type": "stream",
          "text": [
            "unkown\n"
          ],
          "name": "stdout"
        }
      ]
    },
    {
      "cell_type": "code",
      "metadata": {
        "id": "vfPRgHv1lStP",
        "colab_type": "code",
        "colab": {},
        "outputId": "07628d66-c643-487f-bb2b-75280954a115"
      },
      "source": [
        "# But if empty dictionary\n",
        "d = {}\n",
        "print(d['name'])"
      ],
      "execution_count": null,
      "outputs": [
        {
          "output_type": "error",
          "ename": "KeyError",
          "evalue": "'name'",
          "traceback": [
            "\u001b[1;31m---------------------------------------------------------------------------\u001b[0m",
            "\u001b[1;31mKeyError\u001b[0m                                  Traceback (most recent call last)",
            "\u001b[1;32m<ipython-input-8-c1bf129dea94>\u001b[0m in \u001b[0;36m<module>\u001b[1;34m\u001b[0m\n\u001b[0;32m      1\u001b[0m \u001b[1;31m# But if empty dictionary\u001b[0m\u001b[1;33m\u001b[0m\u001b[1;33m\u001b[0m\u001b[1;33m\u001b[0m\u001b[0m\n\u001b[0;32m      2\u001b[0m \u001b[0md\u001b[0m \u001b[1;33m=\u001b[0m \u001b[1;33m{\u001b[0m\u001b[1;33m}\u001b[0m\u001b[1;33m\u001b[0m\u001b[1;33m\u001b[0m\u001b[0m\n\u001b[1;32m----> 3\u001b[1;33m \u001b[0mprint\u001b[0m\u001b[1;33m(\u001b[0m\u001b[0md\u001b[0m\u001b[1;33m[\u001b[0m\u001b[1;34m'name'\u001b[0m\u001b[1;33m]\u001b[0m\u001b[1;33m)\u001b[0m\u001b[1;33m\u001b[0m\u001b[1;33m\u001b[0m\u001b[0m\n\u001b[0m",
            "\u001b[1;31mKeyError\u001b[0m: 'name'"
          ]
        }
      ]
    },
    {
      "cell_type": "code",
      "metadata": {
        "id": "Ni3-0f_NlStR",
        "colab_type": "code",
        "colab": {},
        "outputId": "25d2fe05-ad19-4723-f052-505ac46de9cd"
      },
      "source": [
        "# we cau use get method\n",
        "print(d.get('name'))"
      ],
      "execution_count": null,
      "outputs": [
        {
          "output_type": "stream",
          "text": [
            "None\n"
          ],
          "name": "stdout"
        }
      ]
    },
    {
      "cell_type": "code",
      "metadata": {
        "id": "9sEb736dlStS",
        "colab_type": "code",
        "colab": {},
        "outputId": "7484408e-ba83-4dea-b7a7-b143d38562d1"
      },
      "source": [
        "#supply default values\n",
        "print(d.get('name',\"nahi pata\"))"
      ],
      "execution_count": null,
      "outputs": [
        {
          "output_type": "stream",
          "text": [
            "nahi pata\n"
          ],
          "name": "stdout"
        }
      ]
    },
    {
      "cell_type": "code",
      "metadata": {
        "id": "-XJ3bLcxlStV",
        "colab_type": "code",
        "colab": {},
        "outputId": "05ad71cb-860c-41eb-d99a-39cd663332a3"
      },
      "source": [
        "# if the key is there\n",
        "a.get('name')  "
      ],
      "execution_count": null,
      "outputs": [
        {
          "output_type": "execute_result",
          "data": {
            "text/plain": [
              "'unkown'"
            ]
          },
          "metadata": {
            "tags": []
          },
          "execution_count": 11
        }
      ]
    },
    {
      "cell_type": "code",
      "metadata": {
        "id": "N7c460rolStY",
        "colab_type": "code",
        "colab": {},
        "outputId": "973fde8d-a90b-4963-acc6-da33414dbcaa"
      },
      "source": [
        "# A simple database using get()\n",
        "people = {\n",
        "'Alice': {\n",
        "'phone': '2341',\n",
        "'addr': 'Foo drive 23'\n",
        "},\n",
        "'Beth': {\n",
        "'phone': '9102',\n",
        "'addr': 'Bar street 42'\n",
        "},\n",
        "'Cecil': {\n",
        "'phone': '3158',\n",
        "'addr': 'Baz avenue 90'\n",
        "}\n",
        "}\n",
        "labels = {\n",
        "'phone': 'phone number',\n",
        "'addr': 'address'\n",
        "}\n",
        "name = input('Name: ')\n",
        "# Are we looking for a phone number or an address?\n",
        "request = input('Phone number (p) or address (a)? ')\n",
        "# Use the correct key:\n",
        "key = request # In case the request is neither 'p' nor 'a'\n",
        "if request == 'p': key = 'phone'\n",
        "if request == 'a': key = 'addr'\n",
        "# Use get to provide default values:\n",
        "person = people.get(name, {})\n",
        "label = labels.get(key, key)\n",
        "result = person.get(key, 'not available')\n",
        "print(\"{}'s {} is {}.\".format(name, label, result))"
      ],
      "execution_count": null,
      "outputs": [
        {
          "output_type": "stream",
          "text": [
            "Name:  Abhishek\n",
            "Phone number (p) or address (a)?  a\n"
          ],
          "name": "stdin"
        },
        {
          "output_type": "stream",
          "text": [
            "Abhishek's address is not available.\n"
          ],
          "name": "stdout"
        }
      ]
    },
    {
      "cell_type": "code",
      "metadata": {
        "id": "XUngaFNglSta",
        "colab_type": "code",
        "colab": {},
        "outputId": "aefcd1f5-5fa0-438c-8747-67d56d4baa8e"
      },
      "source": [
        "# items : returns all the items of the dictionary as a list of items in which each item is of the form (key, value)\n",
        "d = {'title': 'Python Web Site', 'url': 'http://www.python.org', 'spam': 0}\n",
        "d.items()"
      ],
      "execution_count": null,
      "outputs": [
        {
          "output_type": "execute_result",
          "data": {
            "text/plain": [
              "dict_items([('title', 'Python Web Site'), ('url', 'http://www.python.org'), ('spam', 0)])"
            ]
          },
          "metadata": {
            "tags": []
          },
          "execution_count": 15
        }
      ]
    },
    {
      "cell_type": "code",
      "metadata": {
        "id": "EUR8wMovlStr",
        "colab_type": "code",
        "colab": {},
        "outputId": "cccd9fed-e9c9-441c-84b7-22a58a2476e0"
      },
      "source": [
        "it = d.items()\n",
        "len(it)"
      ],
      "execution_count": null,
      "outputs": [
        {
          "output_type": "execute_result",
          "data": {
            "text/plain": [
              "3"
            ]
          },
          "metadata": {
            "tags": []
          },
          "execution_count": 16
        }
      ]
    },
    {
      "cell_type": "code",
      "metadata": {
        "id": "oS5SKrZhlStt",
        "colab_type": "code",
        "colab": {},
        "outputId": "5e503a4c-d23b-4460-a86b-a16b982ec1ec"
      },
      "source": [
        "('spam',0) in it"
      ],
      "execution_count": null,
      "outputs": [
        {
          "output_type": "execute_result",
          "data": {
            "text/plain": [
              "True"
            ]
          },
          "metadata": {
            "tags": []
          },
          "execution_count": 17
        }
      ]
    },
    {
      "cell_type": "code",
      "metadata": {
        "id": "12E6ZlrrlStv",
        "colab_type": "code",
        "colab": {},
        "outputId": "2dcbb2dd-f937-4f1f-e122-4b51b60599d2"
      },
      "source": [
        "# You can copy items into separate list\n",
        "a = list(d.items())\n",
        "a"
      ],
      "execution_count": null,
      "outputs": [
        {
          "output_type": "execute_result",
          "data": {
            "text/plain": [
              "[('title', 'Python Web Site'), ('url', 'http://www.python.org'), ('spam', 0)]"
            ]
          },
          "metadata": {
            "tags": []
          },
          "execution_count": 20
        }
      ]
    },
    {
      "cell_type": "code",
      "metadata": {
        "id": "i1-p6wKXlStz",
        "colab_type": "code",
        "colab": {},
        "outputId": "7cf70d36-3596-4767-c637-0da1f5c3e470"
      },
      "source": [
        "# pop\n",
        "print(d)\n",
        "d.pop(\"title\")  #argument needed\n",
        "print(d)"
      ],
      "execution_count": null,
      "outputs": [
        {
          "output_type": "stream",
          "text": [
            "{'title': 'Python Web Site', 'url': 'http://www.python.org', 'spam': 0}\n",
            "{'url': 'http://www.python.org', 'spam': 0}\n"
          ],
          "name": "stdout"
        }
      ]
    },
    {
      "cell_type": "code",
      "metadata": {
        "id": "DAcy7WvwlSt3",
        "colab_type": "code",
        "colab": {},
        "outputId": "2294bea5-5b67-443c-e1fd-ea309821c819"
      },
      "source": [
        "# popitem similar to list.pop()\n",
        "d.popitem() # no need to supply arguement\n",
        "print(d)"
      ],
      "execution_count": null,
      "outputs": [
        {
          "output_type": "stream",
          "text": [
            "{'url': 'http://www.python.org'}\n"
          ],
          "name": "stdout"
        }
      ]
    },
    {
      "cell_type": "code",
      "metadata": {
        "id": "dYY55k5ulSt6",
        "colab_type": "code",
        "colab": {}
      },
      "source": [
        "# update dictionary with one another dictionary item\n",
        "x = {'title': 'Python Language Website'}\n",
        "y = {'url': \"http://www.python1.org\"}\n",
        "\n",
        "d.update(x)\n",
        "d.update(y)"
      ],
      "execution_count": null,
      "outputs": []
    },
    {
      "cell_type": "code",
      "metadata": {
        "id": "wSkch4oJlSt8",
        "colab_type": "code",
        "colab": {},
        "outputId": "6ae1b3c3-cc16-49da-a5d5-50fda6975641"
      },
      "source": [
        "print(d)"
      ],
      "execution_count": null,
      "outputs": [
        {
          "output_type": "stream",
          "text": [
            "{'url': 'http://www.python1.org', 'title': 'Python Language Website'}\n"
          ],
          "name": "stdout"
        }
      ]
    },
    {
      "cell_type": "code",
      "metadata": {
        "id": "Rg1hDHFdlSt-",
        "colab_type": "code",
        "colab": {},
        "outputId": "372a4d33-4ff0-43c9-8487-957edba40ff0"
      },
      "source": [
        "d.values()"
      ],
      "execution_count": null,
      "outputs": [
        {
          "output_type": "execute_result",
          "data": {
            "text/plain": [
              "dict_values(['http://www.python1.org', 'Python Language Website'])"
            ]
          },
          "metadata": {
            "tags": []
          },
          "execution_count": 33
        }
      ]
    },
    {
      "cell_type": "code",
      "metadata": {
        "id": "TucB6efOlSuA",
        "colab_type": "code",
        "colab": {},
        "outputId": "5f85a69a-0258-4ea6-abed-ae84805a57d6"
      },
      "source": [
        ""
      ],
      "execution_count": null,
      "outputs": [
        {
          "output_type": "error",
          "ename": "KeyError",
          "evalue": "0",
          "traceback": [
            "\u001b[1;31m---------------------------------------------------------------------------\u001b[0m",
            "\u001b[1;31mKeyError\u001b[0m                                  Traceback (most recent call last)",
            "\u001b[1;32m<ipython-input-35-c7332189be96>\u001b[0m in \u001b[0;36m<module>\u001b[1;34m\u001b[0m\n\u001b[1;32m----> 1\u001b[1;33m \u001b[0mprint\u001b[0m\u001b[1;33m(\u001b[0m\u001b[0md\u001b[0m\u001b[1;33m[\u001b[0m\u001b[1;36m0\u001b[0m\u001b[1;33m]\u001b[0m\u001b[1;33m)\u001b[0m\u001b[1;33m\u001b[0m\u001b[1;33m\u001b[0m\u001b[0m\n\u001b[0m",
            "\u001b[1;31mKeyError\u001b[0m: 0"
          ]
        }
      ]
    },
    {
      "cell_type": "code",
      "metadata": {
        "id": "ymQGB1SSlSuE",
        "colab_type": "code",
        "colab": {}
      },
      "source": [
        ""
      ],
      "execution_count": null,
      "outputs": []
    }
  ]
}