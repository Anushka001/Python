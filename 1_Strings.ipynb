{
 "cells": [
  {
   "cell_type": "code",
   "execution_count": 1,
   "metadata": {},
   "outputs": [
    {
     "data": {
      "text/plain": [
       "'Hello, World'"
      ]
     },
     "execution_count": 1,
     "metadata": {},
     "output_type": "execute_result"
    }
   ],
   "source": [
    "# Concatenating Strings\n",
    "\"Hello,\" + \" World\""
   ]
  },
  {
   "cell_type": "code",
   "execution_count": 2,
   "metadata": {},
   "outputs": [
    {
     "name": "stdout",
     "output_type": "stream",
     "text": [
      "Hello, World\n"
     ]
    }
   ],
   "source": [
    "x= \"Hello, \"\n",
    "y= \"World\"\n",
    "print(x+y)"
   ]
  },
  {
   "cell_type": "code",
   "execution_count": 3,
   "metadata": {},
   "outputs": [
    {
     "name": "stdout",
     "output_type": "stream",
     "text": [
      "'Hello \\n World'\n",
      "Hello \n",
      " World\n"
     ]
    }
   ],
   "source": [
    "#Difference in above statements: Diffrence of quotes: String conversion mechanism\n",
    "#'Hello, World'\n",
    "#\"Hello, World\"\n",
    "#lets put \"\\n\" for much clear difference\n",
    "print(repr(\"Hello \\n World\"))  #what python understands\n",
    "print(str(\"Hello \\n World\"))   # what user understands\n"
   ]
  },
  {
   "cell_type": "code",
   "execution_count": 4,
   "metadata": {},
   "outputs": [
    {
     "name": "stdout",
     "output_type": "stream",
     "text": [
      "This is a very long string. It continues here.\n",
      "And it's not over yet. \"Hello, world!\"\n",
      "Still here.\n"
     ]
    }
   ],
   "source": [
    "#long strings: Use ''' triple quottes\n",
    "print('''This is a very long string. It continues here.\n",
    "And it's not over yet. \"Hello, world!\"\n",
    "Still here.''')"
   ]
  },
  {
   "cell_type": "code",
   "execution_count": 1,
   "metadata": {},
   "outputs": [
    {
     "name": "stdout",
     "output_type": "stream",
     "text": [
      "Hello, \\ world!\n",
      "Hello, world\n"
     ]
    }
   ],
   "source": [
    "# for ordinary string use backslash \\\n",
    "print(\"Hello, \\ world!\")\n",
    "print \\\n",
    "('Hello, world')"
   ]
  },
  {
   "cell_type": "code",
   "execution_count": 2,
   "metadata": {},
   "outputs": [
    {
     "data": {
      "text/plain": [
       "12"
      ]
     },
     "execution_count": 2,
     "metadata": {},
     "output_type": "execute_result"
    }
   ],
   "source": [
    "1 + 2 + \\\n",
    "4 + 5"
   ]
  },
  {
   "cell_type": "code",
   "execution_count": 4,
   "metadata": {},
   "outputs": [
    {
     "name": "stdout",
     "output_type": "stream",
     "text": [
      "C:\n",
      "owhere\n",
      "C:\\nowhere\n"
     ]
    }
   ],
   "source": [
    "#Raw Strings\n",
    "path = 'C:\\nowhere'\n",
    "print(path)\n",
    "\n",
    "print('C:\\\\nowhere')\n",
    "#use  double backslash as \\ is a escape sequence"
   ]
  },
  {
   "cell_type": "code",
   "execution_count": 5,
   "metadata": {},
   "outputs": [
    {
     "name": "stdout",
     "output_type": "stream",
     "text": [
      "C:\\nowhere\n"
     ]
    }
   ],
   "source": [
    "# or use r for raw strings\n",
    "path = r'C:\\nowhere'\n",
    "print(path)"
   ]
  },
  {
   "cell_type": "code",
   "execution_count": 6,
   "metadata": {},
   "outputs": [
    {
     "ename": "SyntaxError",
     "evalue": "invalid syntax (<ipython-input-6-65f731b39f14>, line 1)",
     "output_type": "error",
     "traceback": [
      "\u001b[1;36m  File \u001b[1;32m\"<ipython-input-6-65f731b39f14>\"\u001b[1;36m, line \u001b[1;32m1\u001b[0m\n\u001b[1;33m    print('Let's go)\u001b[0m\n\u001b[1;37m               ^\u001b[0m\n\u001b[1;31mSyntaxError\u001b[0m\u001b[1;31m:\u001b[0m invalid syntax\n"
     ]
    }
   ],
   "source": [
    "print('Let's go')\n"
   ]
  },
  {
   "cell_type": "code",
   "execution_count": 9,
   "metadata": {},
   "outputs": [
    {
     "name": "stdout",
     "output_type": "stream",
     "text": [
      "Let\\'s go\n"
     ]
    }
   ],
   "source": [
    "print(r'Let\\'s go')"
   ]
  },
  {
   "cell_type": "code",
   "execution_count": 13,
   "metadata": {},
   "outputs": [
    {
     "name": "stdout",
     "output_type": "stream",
     "text": [
      "Let 's go\n"
     ]
    }
   ],
   "source": [
    "print('Let \\'s go')  #you can put any thing inside the r, but for quotes use \\"
   ]
  },
  {
   "cell_type": "code",
   "execution_count": 14,
   "metadata": {},
   "outputs": [
    {
     "ename": "SyntaxError",
     "evalue": "EOL while scanning string literal (<ipython-input-14-468cfad8b2cb>, line 1)",
     "output_type": "error",
     "traceback": [
      "\u001b[1;36m  File \u001b[1;32m\"<ipython-input-14-468cfad8b2cb>\"\u001b[1;36m, line \u001b[1;32m1\u001b[0m\n\u001b[1;33m    print(r\"This is illegal\\\")\u001b[0m\n\u001b[1;37m                              ^\u001b[0m\n\u001b[1;31mSyntaxError\u001b[0m\u001b[1;31m:\u001b[0m EOL while scanning string literal\n"
     ]
    }
   ],
   "source": [
    "print(r\"This is illegal\\\")  #Illegal"
   ]
  },
  {
   "cell_type": "code",
   "execution_count": 15,
   "metadata": {},
   "outputs": [
    {
     "name": "stdout",
     "output_type": "stream",
     "text": [
      "This is illegal\\hi\n"
     ]
    }
   ],
   "source": [
    "print(r\"This is illegal\\hi\") #you need aleast one character after \\"
   ]
  },
  {
   "cell_type": "code",
   "execution_count": 16,
   "metadata": {},
   "outputs": [
    {
     "name": "stdout",
     "output_type": "stream",
     "text": [
      "C:\\Program Files\\foo\\bar\\\n"
     ]
    }
   ],
   "source": [
    "#But you need \\ at last of your string\n",
    "print(r'C:\\Program Files\\foo\\bar' '\\\\')\n"
   ]
  },
  {
   "cell_type": "code",
   "execution_count": 19,
   "metadata": {},
   "outputs": [
    {
     "name": "stdout",
     "output_type": "stream",
     "text": [
      "Æ\n"
     ]
    },
    {
     "data": {
      "text/plain": [
       "'This is a cat: 🐈'"
      ]
     },
     "execution_count": 19,
     "metadata": {},
     "output_type": "execute_result"
    }
   ],
   "source": [
    "#Unicode, bytes and bytearray\n",
    "print(\"\\u00C6\")\n",
    "\"This is a cat: \\N{Cat}\"\n",
    "#for more http://unicode-table.com"
   ]
  },
  {
   "cell_type": "code",
   "execution_count": null,
   "metadata": {},
   "outputs": [],
   "source": []
  }
 ],
 "metadata": {
  "kernelspec": {
   "display_name": "Python 3",
   "language": "python",
   "name": "python3"
  },
  "language_info": {
   "codemirror_mode": {
    "name": "ipython",
    "version": 3
   },
   "file_extension": ".py",
   "mimetype": "text/x-python",
   "name": "python",
   "nbconvert_exporter": "python",
   "pygments_lexer": "ipython3",
   "version": "3.7.3"
  }
 },
 "nbformat": 4,
 "nbformat_minor": 2
}
